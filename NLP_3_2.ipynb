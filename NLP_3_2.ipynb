{
 "cells": [
  {
   "cell_type": "markdown",
   "metadata": {},
   "source": [
    "# 1. Импортируем библиотеки и датасет "
   ]
  },
  {
   "cell_type": "code",
   "execution_count": 1,
   "metadata": {},
   "outputs": [
    {
     "name": "stderr",
     "output_type": "stream",
     "text": [
      "[nltk_data] Downloading package punkt to\n",
      "[nltk_data]     /Users/elizabethsolomyannik/nltk_data...\n",
      "[nltk_data]   Package punkt is already up-to-date!\n",
      "[nltk_data] Downloading package stopwords to\n",
      "[nltk_data]     /Users/elizabethsolomyannik/nltk_data...\n",
      "[nltk_data]   Package stopwords is already up-to-date!\n"
     ]
    },
    {
     "data": {
      "text/plain": [
       "True"
      ]
     },
     "execution_count": 1,
     "metadata": {},
     "output_type": "execute_result"
    }
   ],
   "source": [
    "import pandas as pd\n",
    "import random\n",
    "import numpy as np\n",
    "import re\n",
    "import nltk\n",
    "import nltk.corpus\n",
    "import string\n",
    "nltk.download('punkt')\n",
    "nltk.download('stopwords')"
   ]
  },
  {
   "cell_type": "code",
   "execution_count": 2,
   "metadata": {},
   "outputs": [],
   "source": [
    "tsv_file = 'reviews.tsv'\n",
    "df_all = pd.read_table(tsv_file, sep='\\t')\n",
    "df = df_all.sample(n = 10000)\n",
    "df.to_csv('new_name.csv', index=False, encoding=\"utf8\")"
   ]
  },
  {
   "cell_type": "code",
   "execution_count": 3,
   "metadata": {},
   "outputs": [
    {
     "data": {
      "text/html": [
       "<div>\n",
       "<style scoped>\n",
       "    .dataframe tbody tr th:only-of-type {\n",
       "        vertical-align: middle;\n",
       "    }\n",
       "\n",
       "    .dataframe tbody tr th {\n",
       "        vertical-align: top;\n",
       "    }\n",
       "\n",
       "    .dataframe thead th {\n",
       "        text-align: right;\n",
       "    }\n",
       "</style>\n",
       "<table border=\"1\" class=\"dataframe\">\n",
       "  <thead>\n",
       "    <tr style=\"text-align: right;\">\n",
       "      <th></th>\n",
       "      <th>permalink</th>\n",
       "      <th>rating</th>\n",
       "      <th>review_text</th>\n",
       "    </tr>\n",
       "  </thead>\n",
       "  <tbody>\n",
       "    <tr>\n",
       "      <th>41298</th>\n",
       "      <td>1165596568</td>\n",
       "      <td>5.0</td>\n",
       "      <td>Ризотто просто изумительное!</td>\n",
       "    </tr>\n",
       "    <tr>\n",
       "      <th>4994</th>\n",
       "      <td>1017954085</td>\n",
       "      <td>4.0</td>\n",
       "      <td>Проблема с парковкой. Стулья на веранде сырые.</td>\n",
       "    </tr>\n",
       "    <tr>\n",
       "      <th>159745</th>\n",
       "      <td>54766500180</td>\n",
       "      <td>5.0</td>\n",
       "      <td>Мне нравится.</td>\n",
       "    </tr>\n",
       "    <tr>\n",
       "      <th>49993</th>\n",
       "      <td>1214095315</td>\n",
       "      <td>5.0</td>\n",
       "      <td>Поскольку в этот раз мы приехали с супругой в ...</td>\n",
       "    </tr>\n",
       "    <tr>\n",
       "      <th>7704</th>\n",
       "      <td>1026518464</td>\n",
       "      <td>5.0</td>\n",
       "      <td>Очень приветливый персонал, все вкусно, как дома.</td>\n",
       "    </tr>\n",
       "  </tbody>\n",
       "</table>\n",
       "</div>"
      ],
      "text/plain": [
       "          permalink  rating                                        review_text\n",
       "41298    1165596568     5.0                       Ризотто просто изумительное!\n",
       "4994     1017954085     4.0     Проблема с парковкой. Стулья на веранде сырые.\n",
       "159745  54766500180     5.0                                      Мне нравится.\n",
       "49993    1214095315     5.0  Поскольку в этот раз мы приехали с супругой в ...\n",
       "7704     1026518464     5.0  Очень приветливый персонал, все вкусно, как дома."
      ]
     },
     "execution_count": 3,
     "metadata": {},
     "output_type": "execute_result"
    }
   ],
   "source": [
    "df.head()"
   ]
  },
  {
   "cell_type": "markdown",
   "metadata": {},
   "source": [
    "# 2.1 Чистим датасет от пропущенных значений в поле rating и от rating = 0.0"
   ]
  },
  {
   "cell_type": "code",
   "execution_count": 4,
   "metadata": {},
   "outputs": [
    {
     "data": {
      "text/plain": [
       "10000"
      ]
     },
     "execution_count": 4,
     "metadata": {},
     "output_type": "execute_result"
    }
   ],
   "source": [
    "len(df) #кол-во строк в датасете"
   ]
  },
  {
   "cell_type": "code",
   "execution_count": 5,
   "metadata": {},
   "outputs": [],
   "source": [
    "df = df.loc[df['rating'] != 0.0] #оставляем строки со значением 'rating' не 0.0"
   ]
  },
  {
   "cell_type": "code",
   "execution_count": 6,
   "metadata": {},
   "outputs": [
    {
     "data": {
      "text/html": [
       "<div>\n",
       "<style scoped>\n",
       "    .dataframe tbody tr th:only-of-type {\n",
       "        vertical-align: middle;\n",
       "    }\n",
       "\n",
       "    .dataframe tbody tr th {\n",
       "        vertical-align: top;\n",
       "    }\n",
       "\n",
       "    .dataframe thead th {\n",
       "        text-align: right;\n",
       "    }\n",
       "</style>\n",
       "<table border=\"1\" class=\"dataframe\">\n",
       "  <thead>\n",
       "    <tr style=\"text-align: right;\">\n",
       "      <th></th>\n",
       "      <th>permalink</th>\n",
       "      <th>rating</th>\n",
       "      <th>review_text</th>\n",
       "    </tr>\n",
       "  </thead>\n",
       "  <tbody>\n",
       "    <tr>\n",
       "      <th>41298</th>\n",
       "      <td>1165596568</td>\n",
       "      <td>5.0</td>\n",
       "      <td>Ризотто просто изумительное!</td>\n",
       "    </tr>\n",
       "    <tr>\n",
       "      <th>4994</th>\n",
       "      <td>1017954085</td>\n",
       "      <td>4.0</td>\n",
       "      <td>Проблема с парковкой. Стулья на веранде сырые.</td>\n",
       "    </tr>\n",
       "    <tr>\n",
       "      <th>159745</th>\n",
       "      <td>54766500180</td>\n",
       "      <td>5.0</td>\n",
       "      <td>Мне нравится.</td>\n",
       "    </tr>\n",
       "    <tr>\n",
       "      <th>49993</th>\n",
       "      <td>1214095315</td>\n",
       "      <td>5.0</td>\n",
       "      <td>Поскольку в этот раз мы приехали с супругой в ...</td>\n",
       "    </tr>\n",
       "    <tr>\n",
       "      <th>7704</th>\n",
       "      <td>1026518464</td>\n",
       "      <td>5.0</td>\n",
       "      <td>Очень приветливый персонал, все вкусно, как дома.</td>\n",
       "    </tr>\n",
       "  </tbody>\n",
       "</table>\n",
       "</div>"
      ],
      "text/plain": [
       "          permalink  rating                                        review_text\n",
       "41298    1165596568     5.0                       Ризотто просто изумительное!\n",
       "4994     1017954085     4.0     Проблема с парковкой. Стулья на веранде сырые.\n",
       "159745  54766500180     5.0                                      Мне нравится.\n",
       "49993    1214095315     5.0  Поскольку в этот раз мы приехали с супругой в ...\n",
       "7704     1026518464     5.0  Очень приветливый персонал, все вкусно, как дома."
      ]
     },
     "execution_count": 6,
     "metadata": {},
     "output_type": "execute_result"
    }
   ],
   "source": [
    "df.head()"
   ]
  },
  {
   "cell_type": "code",
   "execution_count": 7,
   "metadata": {},
   "outputs": [
    {
     "data": {
      "text/plain": [
       "9995"
      ]
     },
     "execution_count": 7,
     "metadata": {},
     "output_type": "execute_result"
    }
   ],
   "source": [
    "len(df) #кол-во строк в датасете без 0.0 "
   ]
  },
  {
   "cell_type": "code",
   "execution_count": 8,
   "metadata": {},
   "outputs": [],
   "source": [
    "df = df.dropna() #удаляем строки, в которых есть пропущенные значения столбцов"
   ]
  },
  {
   "cell_type": "code",
   "execution_count": 9,
   "metadata": {},
   "outputs": [
    {
     "data": {
      "text/plain": [
       "9989"
      ]
     },
     "execution_count": 9,
     "metadata": {},
     "output_type": "execute_result"
    }
   ],
   "source": [
    "len(df)"
   ]
  },
  {
   "cell_type": "code",
   "execution_count": 10,
   "metadata": {},
   "outputs": [
    {
     "data": {
      "text/html": [
       "<div>\n",
       "<style scoped>\n",
       "    .dataframe tbody tr th:only-of-type {\n",
       "        vertical-align: middle;\n",
       "    }\n",
       "\n",
       "    .dataframe tbody tr th {\n",
       "        vertical-align: top;\n",
       "    }\n",
       "\n",
       "    .dataframe thead th {\n",
       "        text-align: right;\n",
       "    }\n",
       "</style>\n",
       "<table border=\"1\" class=\"dataframe\">\n",
       "  <thead>\n",
       "    <tr style=\"text-align: right;\">\n",
       "      <th></th>\n",
       "      <th>permalink</th>\n",
       "      <th>rating</th>\n",
       "      <th>review_text</th>\n",
       "    </tr>\n",
       "  </thead>\n",
       "  <tbody>\n",
       "    <tr>\n",
       "      <th>41298</th>\n",
       "      <td>1165596568</td>\n",
       "      <td>5.0</td>\n",
       "      <td>Ризотто просто изумительное!</td>\n",
       "    </tr>\n",
       "    <tr>\n",
       "      <th>4994</th>\n",
       "      <td>1017954085</td>\n",
       "      <td>4.0</td>\n",
       "      <td>Проблема с парковкой. Стулья на веранде сырые.</td>\n",
       "    </tr>\n",
       "    <tr>\n",
       "      <th>159745</th>\n",
       "      <td>54766500180</td>\n",
       "      <td>5.0</td>\n",
       "      <td>Мне нравится.</td>\n",
       "    </tr>\n",
       "    <tr>\n",
       "      <th>49993</th>\n",
       "      <td>1214095315</td>\n",
       "      <td>5.0</td>\n",
       "      <td>Поскольку в этот раз мы приехали с супругой в ...</td>\n",
       "    </tr>\n",
       "    <tr>\n",
       "      <th>7704</th>\n",
       "      <td>1026518464</td>\n",
       "      <td>5.0</td>\n",
       "      <td>Очень приветливый персонал, все вкусно, как дома.</td>\n",
       "    </tr>\n",
       "  </tbody>\n",
       "</table>\n",
       "</div>"
      ],
      "text/plain": [
       "          permalink  rating                                        review_text\n",
       "41298    1165596568     5.0                       Ризотто просто изумительное!\n",
       "4994     1017954085     4.0     Проблема с парковкой. Стулья на веранде сырые.\n",
       "159745  54766500180     5.0                                      Мне нравится.\n",
       "49993    1214095315     5.0  Поскольку в этот раз мы приехали с супругой в ...\n",
       "7704     1026518464     5.0  Очень приветливый персонал, все вкусно, как дома."
      ]
     },
     "execution_count": 10,
     "metadata": {},
     "output_type": "execute_result"
    }
   ],
   "source": [
    "df.head()"
   ]
  },
  {
   "cell_type": "markdown",
   "metadata": {},
   "source": [
    "# 2.2 Очистка текста от html тэгов и знаков препинания"
   ]
  },
  {
   "cell_type": "code",
   "execution_count": 11,
   "metadata": {},
   "outputs": [],
   "source": [
    "df['review_text'] = df['review_text'].astype(str) #переводим столбец в строку"
   ]
  },
  {
   "cell_type": "code",
   "execution_count": 12,
   "metadata": {},
   "outputs": [],
   "source": [
    "df['review_text'] = df['review_text'].str.replace(r'\\W', \" \") #удаляем html тэги и пунктуацию c помощью регулярного выражения"
   ]
  },
  {
   "cell_type": "code",
   "execution_count": 13,
   "metadata": {},
   "outputs": [
    {
     "data": {
      "text/html": [
       "<div>\n",
       "<style scoped>\n",
       "    .dataframe tbody tr th:only-of-type {\n",
       "        vertical-align: middle;\n",
       "    }\n",
       "\n",
       "    .dataframe tbody tr th {\n",
       "        vertical-align: top;\n",
       "    }\n",
       "\n",
       "    .dataframe thead th {\n",
       "        text-align: right;\n",
       "    }\n",
       "</style>\n",
       "<table border=\"1\" class=\"dataframe\">\n",
       "  <thead>\n",
       "    <tr style=\"text-align: right;\">\n",
       "      <th></th>\n",
       "      <th>permalink</th>\n",
       "      <th>rating</th>\n",
       "      <th>review_text</th>\n",
       "    </tr>\n",
       "  </thead>\n",
       "  <tbody>\n",
       "    <tr>\n",
       "      <th>41298</th>\n",
       "      <td>1165596568</td>\n",
       "      <td>5.0</td>\n",
       "      <td>Ризотто просто изумительное</td>\n",
       "    </tr>\n",
       "    <tr>\n",
       "      <th>4994</th>\n",
       "      <td>1017954085</td>\n",
       "      <td>4.0</td>\n",
       "      <td>Проблема с парковкой  Стулья на веранде сырые</td>\n",
       "    </tr>\n",
       "    <tr>\n",
       "      <th>159745</th>\n",
       "      <td>54766500180</td>\n",
       "      <td>5.0</td>\n",
       "      <td>Мне нравится</td>\n",
       "    </tr>\n",
       "    <tr>\n",
       "      <th>49993</th>\n",
       "      <td>1214095315</td>\n",
       "      <td>5.0</td>\n",
       "      <td>Поскольку в этот раз мы приехали с супругой в ...</td>\n",
       "    </tr>\n",
       "    <tr>\n",
       "      <th>7704</th>\n",
       "      <td>1026518464</td>\n",
       "      <td>5.0</td>\n",
       "      <td>Очень приветливый персонал  все вкусно  как дома</td>\n",
       "    </tr>\n",
       "    <tr>\n",
       "      <th>25541</th>\n",
       "      <td>1097028035</td>\n",
       "      <td>4.0</td>\n",
       "      <td>Тут можно самому жарить мясо  А еще тут шикарн...</td>\n",
       "    </tr>\n",
       "    <tr>\n",
       "      <th>78717</th>\n",
       "      <td>1543719822</td>\n",
       "      <td>5.0</td>\n",
       "      <td>Простая и вкусная вегетарианская еда  Уютно</td>\n",
       "    </tr>\n",
       "    <tr>\n",
       "      <th>120888</th>\n",
       "      <td>14489315917</td>\n",
       "      <td>5.0</td>\n",
       "      <td>Великолепный кофе  думаю  лучший в нашем город...</td>\n",
       "    </tr>\n",
       "    <tr>\n",
       "      <th>259861</th>\n",
       "      <td>165790668644</td>\n",
       "      <td>3.0</td>\n",
       "      <td>Хорошее место  цены высокаты</td>\n",
       "    </tr>\n",
       "    <tr>\n",
       "      <th>54628</th>\n",
       "      <td>1243478327</td>\n",
       "      <td>5.0</td>\n",
       "      <td>Очень шикарный ресторан с прекрасной отмосферо...</td>\n",
       "    </tr>\n",
       "    <tr>\n",
       "      <th>136153</th>\n",
       "      <td>28858480463</td>\n",
       "      <td>5.0</td>\n",
       "      <td>Очень вежливый персонал  девушка Алиса проводи...</td>\n",
       "    </tr>\n",
       "    <tr>\n",
       "      <th>19238</th>\n",
       "      <td>1078620654</td>\n",
       "      <td>5.0</td>\n",
       "      <td>Вкусно готовят  не стыдно позвать туда компани...</td>\n",
       "    </tr>\n",
       "    <tr>\n",
       "      <th>166577</th>\n",
       "      <td>63691096836</td>\n",
       "      <td>5.0</td>\n",
       "      <td>Очень  очень вкусно  Небольшая пицца стоит нем...</td>\n",
       "    </tr>\n",
       "    <tr>\n",
       "      <th>190699</th>\n",
       "      <td>89672711847</td>\n",
       "      <td>5.0</td>\n",
       "      <td>Очень вкусная еда  а главное быстро подают  не...</td>\n",
       "    </tr>\n",
       "    <tr>\n",
       "      <th>36926</th>\n",
       "      <td>1147999326</td>\n",
       "      <td>5.0</td>\n",
       "      <td>Всё в общем нравится  Кухня хорошая  цены не к...</td>\n",
       "    </tr>\n",
       "    <tr>\n",
       "      <th>194132</th>\n",
       "      <td>94100557996</td>\n",
       "      <td>5.0</td>\n",
       "      <td>Безумно вкусная паста  но немного дороговато  ...</td>\n",
       "    </tr>\n",
       "    <tr>\n",
       "      <th>35723</th>\n",
       "      <td>1143515423</td>\n",
       "      <td>5.0</td>\n",
       "      <td>Отличное местечко</td>\n",
       "    </tr>\n",
       "    <tr>\n",
       "      <th>19140</th>\n",
       "      <td>1077365294</td>\n",
       "      <td>5.0</td>\n",
       "      <td>Заведение в самом центре города с окнами на Ка...</td>\n",
       "    </tr>\n",
       "    <tr>\n",
       "      <th>203983</th>\n",
       "      <td>104726960937</td>\n",
       "      <td>4.0</td>\n",
       "      <td>Цены приемлемые но меню хотелось бы по разнооб...</td>\n",
       "    </tr>\n",
       "    <tr>\n",
       "      <th>304903</th>\n",
       "      <td>217074287827</td>\n",
       "      <td>5.0</td>\n",
       "      <td>Заходили перекусить  из меню выбор не велик но...</td>\n",
       "    </tr>\n",
       "    <tr>\n",
       "      <th>187755</th>\n",
       "      <td>85642651464</td>\n",
       "      <td>5.0</td>\n",
       "      <td>Отличный ресторан nВкусные блюда nДемократичны...</td>\n",
       "    </tr>\n",
       "    <tr>\n",
       "      <th>140648</th>\n",
       "      <td>33731170780</td>\n",
       "      <td>5.0</td>\n",
       "      <td>Очень вкусно  Красивый интерьер  обслуживание ...</td>\n",
       "    </tr>\n",
       "    <tr>\n",
       "      <th>130494</th>\n",
       "      <td>23569782404</td>\n",
       "      <td>5.0</td>\n",
       "      <td>Тако как в Мексике  Корона с лаймом  Что ещё н...</td>\n",
       "    </tr>\n",
       "    <tr>\n",
       "      <th>314041</th>\n",
       "      <td>227814325138</td>\n",
       "      <td>5.0</td>\n",
       "      <td>Отличное заведение  Еда и обслуживание на высоте</td>\n",
       "    </tr>\n",
       "    <tr>\n",
       "      <th>302504</th>\n",
       "      <td>214936528617</td>\n",
       "      <td>5.0</td>\n",
       "      <td>Лучшая пицца на районе  Берём обычно Маргариту...</td>\n",
       "    </tr>\n",
       "    <tr>\n",
       "      <th>185537</th>\n",
       "      <td>83388880093</td>\n",
       "      <td>5.0</td>\n",
       "      <td>Все очень вкусно    Любителям корейской кухни ...</td>\n",
       "    </tr>\n",
       "    <tr>\n",
       "      <th>148406</th>\n",
       "      <td>41381235213</td>\n",
       "      <td>5.0</td>\n",
       "      <td>Вкусно и недорого</td>\n",
       "    </tr>\n",
       "    <tr>\n",
       "      <th>19756</th>\n",
       "      <td>1079687245</td>\n",
       "      <td>5.0</td>\n",
       "      <td>Очень вкусно готовят</td>\n",
       "    </tr>\n",
       "    <tr>\n",
       "      <th>174183</th>\n",
       "      <td>71209266515</td>\n",
       "      <td>5.0</td>\n",
       "      <td>Очень уютное место для посиделок  Обожаю их ба...</td>\n",
       "    </tr>\n",
       "    <tr>\n",
       "      <th>180939</th>\n",
       "      <td>78313177090</td>\n",
       "      <td>5.0</td>\n",
       "      <td>Суперический кофе  Готовят с душой</td>\n",
       "    </tr>\n",
       "    <tr>\n",
       "      <th>101335</th>\n",
       "      <td>1779987927</td>\n",
       "      <td>5.0</td>\n",
       "      <td>Отличное атмосферное кафе  Обслужили и позволи...</td>\n",
       "    </tr>\n",
       "    <tr>\n",
       "      <th>194347</th>\n",
       "      <td>94363093281</td>\n",
       "      <td>2.0</td>\n",
       "      <td>Не могу сказать что впечатлило  Нормального ме...</td>\n",
       "    </tr>\n",
       "    <tr>\n",
       "      <th>103999</th>\n",
       "      <td>1794397377</td>\n",
       "      <td>5.0</td>\n",
       "      <td>Отмечали день рожденья небольшой компанией  с ...</td>\n",
       "    </tr>\n",
       "    <tr>\n",
       "      <th>11560</th>\n",
       "      <td>1045486387</td>\n",
       "      <td>5.0</td>\n",
       "      <td>Вкусно но дороговато  Очень долгая доставка</td>\n",
       "    </tr>\n",
       "    <tr>\n",
       "      <th>259720</th>\n",
       "      <td>165760923147</td>\n",
       "      <td>5.0</td>\n",
       "      <td>Хороший рестрик  качественная еда хорошая обст...</td>\n",
       "    </tr>\n",
       "    <tr>\n",
       "      <th>256143</th>\n",
       "      <td>161655361542</td>\n",
       "      <td>5.0</td>\n",
       "      <td>Это прекрасно n</td>\n",
       "    </tr>\n",
       "    <tr>\n",
       "      <th>197651</th>\n",
       "      <td>97490758111</td>\n",
       "      <td>5.0</td>\n",
       "      <td>Кофе профессиональный  Очень вежливый бариста ...</td>\n",
       "    </tr>\n",
       "    <tr>\n",
       "      <th>93840</th>\n",
       "      <td>1730626725</td>\n",
       "      <td>5.0</td>\n",
       "      <td>Очень вкусно  быстро и по домашнему</td>\n",
       "    </tr>\n",
       "    <tr>\n",
       "      <th>89099</th>\n",
       "      <td>1700874439</td>\n",
       "      <td>3.0</td>\n",
       "      <td>бизнес ланч совсем не дешёвый выходит  ассорти...</td>\n",
       "    </tr>\n",
       "    <tr>\n",
       "      <th>225712</th>\n",
       "      <td>128720879685</td>\n",
       "      <td>5.0</td>\n",
       "      <td>Кофейня в скандинавском стиле  Минимализм  Оче...</td>\n",
       "    </tr>\n",
       "    <tr>\n",
       "      <th>209390</th>\n",
       "      <td>109354602026</td>\n",
       "      <td>5.0</td>\n",
       "      <td>Мое любимое кафе  часто туда хожу  Все нравиться</td>\n",
       "    </tr>\n",
       "    <tr>\n",
       "      <th>228889</th>\n",
       "      <td>131636766919</td>\n",
       "      <td>5.0</td>\n",
       "      <td>Очень атмосферное местечко рядом с домом  Прек...</td>\n",
       "    </tr>\n",
       "    <tr>\n",
       "      <th>134804</th>\n",
       "      <td>27813391169</td>\n",
       "      <td>5.0</td>\n",
       "      <td>Сюда всегда можно зайти  если хочется перекуси...</td>\n",
       "    </tr>\n",
       "    <tr>\n",
       "      <th>146037</th>\n",
       "      <td>39440079759</td>\n",
       "      <td>5.0</td>\n",
       "      <td>Была впервые в подобном заведении и осталась в...</td>\n",
       "    </tr>\n",
       "    <tr>\n",
       "      <th>198358</th>\n",
       "      <td>98795289201</td>\n",
       "      <td>5.0</td>\n",
       "      <td>Вкусно и пусто  Обычное меню  Есть магазин</td>\n",
       "    </tr>\n",
       "    <tr>\n",
       "      <th>289907</th>\n",
       "      <td>200347534334</td>\n",
       "      <td>5.0</td>\n",
       "      <td>Брала кофе на альтернативном молоке   очень по...</td>\n",
       "    </tr>\n",
       "    <tr>\n",
       "      <th>509</th>\n",
       "      <td>1002049748</td>\n",
       "      <td>5.0</td>\n",
       "      <td>Круто  Качественная еда  в большом количестве ...</td>\n",
       "    </tr>\n",
       "    <tr>\n",
       "      <th>42654</th>\n",
       "      <td>1171674934</td>\n",
       "      <td>3.0</td>\n",
       "      <td>Консистенция похожая на омлет  была отвратител...</td>\n",
       "    </tr>\n",
       "    <tr>\n",
       "      <th>253553</th>\n",
       "      <td>158667436280</td>\n",
       "      <td>5.0</td>\n",
       "      <td>Очень вкусно</td>\n",
       "    </tr>\n",
       "    <tr>\n",
       "      <th>82067</th>\n",
       "      <td>1628470694</td>\n",
       "      <td>5.0</td>\n",
       "      <td>Кофе вкусный и пицца вкусная</td>\n",
       "    </tr>\n",
       "  </tbody>\n",
       "</table>\n",
       "</div>"
      ],
      "text/plain": [
       "           permalink  rating  \\\n",
       "41298     1165596568     5.0   \n",
       "4994      1017954085     4.0   \n",
       "159745   54766500180     5.0   \n",
       "49993     1214095315     5.0   \n",
       "7704      1026518464     5.0   \n",
       "25541     1097028035     4.0   \n",
       "78717     1543719822     5.0   \n",
       "120888   14489315917     5.0   \n",
       "259861  165790668644     3.0   \n",
       "54628     1243478327     5.0   \n",
       "136153   28858480463     5.0   \n",
       "19238     1078620654     5.0   \n",
       "166577   63691096836     5.0   \n",
       "190699   89672711847     5.0   \n",
       "36926     1147999326     5.0   \n",
       "194132   94100557996     5.0   \n",
       "35723     1143515423     5.0   \n",
       "19140     1077365294     5.0   \n",
       "203983  104726960937     4.0   \n",
       "304903  217074287827     5.0   \n",
       "187755   85642651464     5.0   \n",
       "140648   33731170780     5.0   \n",
       "130494   23569782404     5.0   \n",
       "314041  227814325138     5.0   \n",
       "302504  214936528617     5.0   \n",
       "185537   83388880093     5.0   \n",
       "148406   41381235213     5.0   \n",
       "19756     1079687245     5.0   \n",
       "174183   71209266515     5.0   \n",
       "180939   78313177090     5.0   \n",
       "101335    1779987927     5.0   \n",
       "194347   94363093281     2.0   \n",
       "103999    1794397377     5.0   \n",
       "11560     1045486387     5.0   \n",
       "259720  165760923147     5.0   \n",
       "256143  161655361542     5.0   \n",
       "197651   97490758111     5.0   \n",
       "93840     1730626725     5.0   \n",
       "89099     1700874439     3.0   \n",
       "225712  128720879685     5.0   \n",
       "209390  109354602026     5.0   \n",
       "228889  131636766919     5.0   \n",
       "134804   27813391169     5.0   \n",
       "146037   39440079759     5.0   \n",
       "198358   98795289201     5.0   \n",
       "289907  200347534334     5.0   \n",
       "509       1002049748     5.0   \n",
       "42654     1171674934     3.0   \n",
       "253553  158667436280     5.0   \n",
       "82067     1628470694     5.0   \n",
       "\n",
       "                                              review_text  \n",
       "41298                        Ризотто просто изумительное   \n",
       "4994       Проблема с парковкой  Стулья на веранде сырые   \n",
       "159745                                      Мне нравится   \n",
       "49993   Поскольку в этот раз мы приехали с супругой в ...  \n",
       "7704    Очень приветливый персонал  все вкусно  как дома   \n",
       "25541   Тут можно самому жарить мясо  А еще тут шикарн...  \n",
       "78717        Простая и вкусная вегетарианская еда  Уютно   \n",
       "120888  Великолепный кофе  думаю  лучший в нашем город...  \n",
       "259861                       Хорошее место  цены высокаты  \n",
       "54628   Очень шикарный ресторан с прекрасной отмосферо...  \n",
       "136153  Очень вежливый персонал  девушка Алиса проводи...  \n",
       "19238   Вкусно готовят  не стыдно позвать туда компани...  \n",
       "166577  Очень  очень вкусно  Небольшая пицца стоит нем...  \n",
       "190699  Очень вкусная еда  а главное быстро подают  не...  \n",
       "36926   Всё в общем нравится  Кухня хорошая  цены не к...  \n",
       "194132  Безумно вкусная паста  но немного дороговато  ...  \n",
       "35723                                 Отличное местечко    \n",
       "19140   Заведение в самом центре города с окнами на Ка...  \n",
       "203983  Цены приемлемые но меню хотелось бы по разнооб...  \n",
       "304903  Заходили перекусить  из меню выбор не велик но...  \n",
       "187755  Отличный ресторан nВкусные блюда nДемократичны...  \n",
       "140648  Очень вкусно  Красивый интерьер  обслуживание ...  \n",
       "130494  Тако как в Мексике  Корона с лаймом  Что ещё н...  \n",
       "314041  Отличное заведение  Еда и обслуживание на высоте   \n",
       "302504  Лучшая пицца на районе  Берём обычно Маргариту...  \n",
       "185537  Все очень вкусно    Любителям корейской кухни ...  \n",
       "148406                                  Вкусно и недорого  \n",
       "19756                               Очень вкусно готовят   \n",
       "174183  Очень уютное место для посиделок  Обожаю их ба...  \n",
       "180939              Суперический кофе  Готовят с душой     \n",
       "101335  Отличное атмосферное кафе  Обслужили и позволи...  \n",
       "194347  Не могу сказать что впечатлило  Нормального ме...  \n",
       "103999  Отмечали день рожденья небольшой компанией  с ...  \n",
       "11560        Вкусно но дороговато  Очень долгая доставка   \n",
       "259720  Хороший рестрик  качественная еда хорошая обст...  \n",
       "256143                                    Это прекрасно n  \n",
       "197651  Кофе профессиональный  Очень вежливый бариста ...  \n",
       "93840                 Очень вкусно  быстро и по домашнему  \n",
       "89099   бизнес ланч совсем не дешёвый выходит  ассорти...  \n",
       "225712  Кофейня в скандинавском стиле  Минимализм  Оче...  \n",
       "209390  Мое любимое кафе  часто туда хожу  Все нравиться   \n",
       "228889  Очень атмосферное местечко рядом с домом  Прек...  \n",
       "134804  Сюда всегда можно зайти  если хочется перекуси...  \n",
       "146037  Была впервые в подобном заведении и осталась в...  \n",
       "198358        Вкусно и пусто  Обычное меню  Есть магазин   \n",
       "289907  Брала кофе на альтернативном молоке   очень по...  \n",
       "509     Круто  Качественная еда  в большом количестве ...  \n",
       "42654   Консистенция похожая на омлет  была отвратител...  \n",
       "253553                                      Очень вкусно   \n",
       "82067                       Кофе вкусный и пицца вкусная   "
      ]
     },
     "execution_count": 13,
     "metadata": {},
     "output_type": "execute_result"
    }
   ],
   "source": [
    "df.head(50)"
   ]
  },
  {
   "cell_type": "markdown",
   "metadata": {},
   "source": [
    "# 2.3 Токенизация"
   ]
  },
  {
   "cell_type": "code",
   "execution_count": 14,
   "metadata": {},
   "outputs": [],
   "source": [
    "from nltk.tokenize import word_tokenize"
   ]
  },
  {
   "cell_type": "code",
   "execution_count": 15,
   "metadata": {},
   "outputs": [],
   "source": [
    "df['review_text'] = df['review_text'].apply(word_tokenize)"
   ]
  },
  {
   "cell_type": "code",
   "execution_count": 16,
   "metadata": {},
   "outputs": [
    {
     "data": {
      "text/html": [
       "<div>\n",
       "<style scoped>\n",
       "    .dataframe tbody tr th:only-of-type {\n",
       "        vertical-align: middle;\n",
       "    }\n",
       "\n",
       "    .dataframe tbody tr th {\n",
       "        vertical-align: top;\n",
       "    }\n",
       "\n",
       "    .dataframe thead th {\n",
       "        text-align: right;\n",
       "    }\n",
       "</style>\n",
       "<table border=\"1\" class=\"dataframe\">\n",
       "  <thead>\n",
       "    <tr style=\"text-align: right;\">\n",
       "      <th></th>\n",
       "      <th>permalink</th>\n",
       "      <th>rating</th>\n",
       "      <th>review_text</th>\n",
       "    </tr>\n",
       "  </thead>\n",
       "  <tbody>\n",
       "    <tr>\n",
       "      <th>41298</th>\n",
       "      <td>1165596568</td>\n",
       "      <td>5.0</td>\n",
       "      <td>[Ризотто, просто, изумительное]</td>\n",
       "    </tr>\n",
       "    <tr>\n",
       "      <th>4994</th>\n",
       "      <td>1017954085</td>\n",
       "      <td>4.0</td>\n",
       "      <td>[Проблема, с, парковкой, Стулья, на, веранде, ...</td>\n",
       "    </tr>\n",
       "    <tr>\n",
       "      <th>159745</th>\n",
       "      <td>54766500180</td>\n",
       "      <td>5.0</td>\n",
       "      <td>[Мне, нравится]</td>\n",
       "    </tr>\n",
       "    <tr>\n",
       "      <th>49993</th>\n",
       "      <td>1214095315</td>\n",
       "      <td>5.0</td>\n",
       "      <td>[Поскольку, в, этот, раз, мы, приехали, с, суп...</td>\n",
       "    </tr>\n",
       "    <tr>\n",
       "      <th>7704</th>\n",
       "      <td>1026518464</td>\n",
       "      <td>5.0</td>\n",
       "      <td>[Очень, приветливый, персонал, все, вкусно, ка...</td>\n",
       "    </tr>\n",
       "  </tbody>\n",
       "</table>\n",
       "</div>"
      ],
      "text/plain": [
       "          permalink  rating                                        review_text\n",
       "41298    1165596568     5.0                    [Ризотто, просто, изумительное]\n",
       "4994     1017954085     4.0  [Проблема, с, парковкой, Стулья, на, веранде, ...\n",
       "159745  54766500180     5.0                                    [Мне, нравится]\n",
       "49993    1214095315     5.0  [Поскольку, в, этот, раз, мы, приехали, с, суп...\n",
       "7704     1026518464     5.0  [Очень, приветливый, персонал, все, вкусно, ка..."
      ]
     },
     "execution_count": 16,
     "metadata": {},
     "output_type": "execute_result"
    }
   ],
   "source": [
    "df.head()"
   ]
  },
  {
   "cell_type": "markdown",
   "metadata": {},
   "source": [
    "# 2.4 Лемматизация и удаление стоп-слов"
   ]
  },
  {
   "cell_type": "code",
   "execution_count": 17,
   "metadata": {},
   "outputs": [
    {
     "name": "stderr",
     "output_type": "stream",
     "text": [
      "[nltk_data] Downloading package stopwords to\n",
      "[nltk_data]     /Users/elizabethsolomyannik/nltk_data...\n",
      "[nltk_data]   Package stopwords is already up-to-date!\n"
     ]
    },
    {
     "data": {
      "text/plain": [
       "True"
      ]
     },
     "execution_count": 17,
     "metadata": {},
     "output_type": "execute_result"
    }
   ],
   "source": [
    "import pymystem3\n",
    "import nltk\n",
    "nltk.download('stopwords')"
   ]
  },
  {
   "cell_type": "code",
   "execution_count": 18,
   "metadata": {},
   "outputs": [
    {
     "name": "stdout",
     "output_type": "stream",
     "text": [
      "['и', 'в', 'во', 'не', 'что', 'он', 'на', 'я', 'с', 'со', 'как', 'а', 'то', 'все', 'она', 'так', 'его', 'но', 'да', 'ты', 'к', 'у', 'же', 'вы', 'за', 'бы', 'по', 'только', 'ее', 'мне', 'было', 'вот', 'от', 'меня', 'еще', 'нет', 'о', 'из', 'ему', 'теперь', 'когда', 'даже', 'ну', 'вдруг', 'ли', 'если', 'уже', 'или', 'ни', 'быть', 'был', 'него', 'до', 'вас', 'нибудь', 'опять', 'уж', 'вам', 'ведь', 'там', 'потом', 'себя', 'ничего', 'ей', 'может', 'они', 'тут', 'где', 'есть', 'надо', 'ней', 'для', 'мы', 'тебя', 'их', 'чем', 'была', 'сам', 'чтоб', 'без', 'будто', 'чего', 'раз', 'тоже', 'себе', 'под', 'будет', 'ж', 'тогда', 'кто', 'этот', 'того', 'потому', 'этого', 'какой', 'совсем', 'ним', 'здесь', 'этом', 'один', 'почти', 'мой', 'тем', 'чтобы', 'нее', 'сейчас', 'были', 'куда', 'зачем', 'всех', 'никогда', 'можно', 'при', 'наконец', 'два', 'об', 'другой', 'хоть', 'после', 'над', 'больше', 'тот', 'через', 'эти', 'нас', 'про', 'всего', 'них', 'какая', 'много', 'разве', 'три', 'эту', 'моя', 'впрочем', 'хорошо', 'свою', 'этой', 'перед', 'иногда', 'лучше', 'чуть', 'том', 'нельзя', 'такой', 'им', 'более', 'всегда', 'конечно', 'всю', 'между']\n"
     ]
    }
   ],
   "source": [
    "from nltk.corpus import stopwords\n",
    "print(stopwords.words('russian'))"
   ]
  },
  {
   "cell_type": "code",
   "execution_count": 19,
   "metadata": {},
   "outputs": [],
   "source": [
    "from nltk.corpus import stopwords\n",
    "from pymystem3 import Mystem\n",
    "from string import punctuation\n",
    "\n",
    "mystem = Mystem() \n",
    "russian_stopwords = stopwords.words(\"russian\")\n",
    "\n",
    "def preprocess_text(text):\n",
    "    tokens = []              #создаем пустой массив токенов\n",
    "    for token in text:\n",
    "        tokens.append(mystem.lemmatize(token.lower())[0])   \n",
    "        tokens = [token for token in tokens if token not in russian_stopwords\n",
    "              and token != \" \"\\\n",
    "              and token.strip() not in punctuation] \n",
    "        \n",
    "    text = \" \".join(tokens) #....................\n",
    "    \n",
    "    return text"
   ]
  },
  {
   "cell_type": "code",
   "execution_count": 20,
   "metadata": {},
   "outputs": [],
   "source": [
    "for index, row in df.iterrows():\n",
    "    df.loc[index, 'review_text'] = preprocess_text(row['review_text'])\n",
    "    #row['review_text'] = preprocess_text(row['review_text'])"
   ]
  },
  {
   "cell_type": "code",
   "execution_count": 21,
   "metadata": {},
   "outputs": [
    {
     "data": {
      "text/html": [
       "<div>\n",
       "<style scoped>\n",
       "    .dataframe tbody tr th:only-of-type {\n",
       "        vertical-align: middle;\n",
       "    }\n",
       "\n",
       "    .dataframe tbody tr th {\n",
       "        vertical-align: top;\n",
       "    }\n",
       "\n",
       "    .dataframe thead th {\n",
       "        text-align: right;\n",
       "    }\n",
       "</style>\n",
       "<table border=\"1\" class=\"dataframe\">\n",
       "  <thead>\n",
       "    <tr style=\"text-align: right;\">\n",
       "      <th></th>\n",
       "      <th>permalink</th>\n",
       "      <th>rating</th>\n",
       "      <th>review_text</th>\n",
       "    </tr>\n",
       "  </thead>\n",
       "  <tbody>\n",
       "    <tr>\n",
       "      <th>41298</th>\n",
       "      <td>1165596568</td>\n",
       "      <td>5.0</td>\n",
       "      <td>ризотто просто изумительный</td>\n",
       "    </tr>\n",
       "    <tr>\n",
       "      <th>4994</th>\n",
       "      <td>1017954085</td>\n",
       "      <td>4.0</td>\n",
       "      <td>проблема парковка стул веранда сырой</td>\n",
       "    </tr>\n",
       "    <tr>\n",
       "      <th>159745</th>\n",
       "      <td>54766500180</td>\n",
       "      <td>5.0</td>\n",
       "      <td>нравиться</td>\n",
       "    </tr>\n",
       "    <tr>\n",
       "      <th>49993</th>\n",
       "      <td>1214095315</td>\n",
       "      <td>5.0</td>\n",
       "      <td>поскольку приезжать супруга санкт петербург вр...</td>\n",
       "    </tr>\n",
       "    <tr>\n",
       "      <th>7704</th>\n",
       "      <td>1026518464</td>\n",
       "      <td>5.0</td>\n",
       "      <td>очень приветливый персонал вкусно дома</td>\n",
       "    </tr>\n",
       "  </tbody>\n",
       "</table>\n",
       "</div>"
      ],
      "text/plain": [
       "          permalink  rating                                        review_text\n",
       "41298    1165596568     5.0                        ризотто просто изумительный\n",
       "4994     1017954085     4.0               проблема парковка стул веранда сырой\n",
       "159745  54766500180     5.0                                          нравиться\n",
       "49993    1214095315     5.0  поскольку приезжать супруга санкт петербург вр...\n",
       "7704     1026518464     5.0             очень приветливый персонал вкусно дома"
      ]
     },
     "execution_count": 21,
     "metadata": {},
     "output_type": "execute_result"
    }
   ],
   "source": [
    "df.head()"
   ]
  },
  {
   "cell_type": "markdown",
   "metadata": {},
   "source": [
    "# 3.1 Разбиваем датасет на тестовую и обучающую выборки"
   ]
  },
  {
   "cell_type": "code",
   "execution_count": 22,
   "metadata": {},
   "outputs": [],
   "source": [
    "from sklearn.model_selection import train_test_split"
   ]
  },
  {
   "cell_type": "code",
   "execution_count": 23,
   "metadata": {},
   "outputs": [],
   "source": [
    "X = df['review_text']\n",
    "y = df['rating']"
   ]
  },
  {
   "cell_type": "code",
   "execution_count": 24,
   "metadata": {},
   "outputs": [],
   "source": [
    "X_train, X_test, y_train, y_test = train_test_split(X,y,test_size = 0.2)"
   ]
  },
  {
   "cell_type": "code",
   "execution_count": 25,
   "metadata": {},
   "outputs": [
    {
     "data": {
      "text/plain": [
       "7991"
      ]
     },
     "execution_count": 25,
     "metadata": {},
     "output_type": "execute_result"
    }
   ],
   "source": [
    "len(X_train)"
   ]
  },
  {
   "cell_type": "code",
   "execution_count": 26,
   "metadata": {},
   "outputs": [
    {
     "data": {
      "text/plain": [
       "1998"
      ]
     },
     "execution_count": 26,
     "metadata": {},
     "output_type": "execute_result"
    }
   ],
   "source": [
    "len(X_test)"
   ]
  },
  {
   "cell_type": "code",
   "execution_count": 27,
   "metadata": {},
   "outputs": [
    {
     "data": {
      "text/plain": [
       "236926    отмечать корпоратив 19 12 2019 понравиться зап...\n",
       "185465    стильный место кухня радовать качество доступн...\n",
       "286769              вкусно сытно хороший ассортимент дорого\n",
       "20086     вкусно достойный обслуживание ценник высоко ср...\n",
       "124090                               душевный местечко ялта\n",
       "Name: review_text, dtype: object"
      ]
     },
     "execution_count": 27,
     "metadata": {},
     "output_type": "execute_result"
    }
   ],
   "source": [
    "X_train.head()"
   ]
  },
  {
   "cell_type": "code",
   "execution_count": 28,
   "metadata": {},
   "outputs": [
    {
     "data": {
      "text/plain": [
       "253705    5.0\n",
       "264797    5.0\n",
       "112085    5.0\n",
       "21085     5.0\n",
       "40418     2.0\n",
       "Name: rating, dtype: float64"
      ]
     },
     "execution_count": 28,
     "metadata": {},
     "output_type": "execute_result"
    }
   ],
   "source": [
    "y_test.head()"
   ]
  },
  {
   "cell_type": "markdown",
   "metadata": {},
   "source": [
    "# 4 Векторизация"
   ]
  },
  {
   "cell_type": "code",
   "execution_count": 29,
   "metadata": {},
   "outputs": [],
   "source": [
    "from sklearn.feature_extraction.text import CountVectorizer\n",
    "from sklearn.feature_extraction.text import TfidfVectorizer"
   ]
  },
  {
   "cell_type": "code",
   "execution_count": 30,
   "metadata": {},
   "outputs": [],
   "source": [
    "X_train = X_train.to_frame()\n",
    "X_test = X_test.to_frame()"
   ]
  },
  {
   "cell_type": "code",
   "execution_count": 31,
   "metadata": {},
   "outputs": [],
   "source": [
    "X_train_words = X_train.apply(lambda x: x.str.split(expand=True).stack()).stack().value_counts()"
   ]
  },
  {
   "cell_type": "code",
   "execution_count": 32,
   "metadata": {},
   "outputs": [],
   "source": [
    "X_train_dict = X_train_words.to_dict()"
   ]
  },
  {
   "cell_type": "code",
   "execution_count": 33,
   "metadata": {},
   "outputs": [
    {
     "data": {
      "text/plain": [
       "очень      3106\n",
       "вкусный    2397\n",
       "вкусно     1851\n",
       "хороший    1533\n",
       "место      1474\n",
       "dtype: int64"
      ]
     },
     "execution_count": 33,
     "metadata": {},
     "output_type": "execute_result"
    }
   ],
   "source": [
    "X_train_words.head()"
   ]
  },
  {
   "cell_type": "code",
   "execution_count": 34,
   "metadata": {},
   "outputs": [
    {
     "name": "stdout",
     "output_type": "stream",
     "text": [
      "X_train_review_bow:  (7991, 10255)\n",
      "X_test_review_bow:  (1998, 10255)\n"
     ]
    }
   ],
   "source": [
    "#corpus = df['review_text']\n",
    "vectorizer = CountVectorizer()\n",
    "X_train_review_bow = vectorizer.fit_transform(X_train['review_text'])\n",
    "X_test_review_bow = vectorizer.transform(X_test['review_text'])\n",
    "\n",
    "print('X_train_review_bow: ', X_train_review_bow.shape)\n",
    "print('X_test_review_bow: ', X_test_review_bow.shape)"
   ]
  },
  {
   "cell_type": "markdown",
   "metadata": {},
   "source": [
    "# Обучение модели"
   ]
  },
  {
   "cell_type": "code",
   "execution_count": 40,
   "metadata": {},
   "outputs": [
    {
     "name": "stdout",
     "output_type": "stream",
     "text": [
      "Test Accuracy:  0.7857857857857858\n"
     ]
    }
   ],
   "source": [
    "from sklearn.naive_bayes import MultinomialNB\n",
    "from sklearn.metrics import accuracy_score\n",
    "\n",
    "clf = MultinomialNB()\n",
    "clf.fit(X_train_review_bow, y_train)\n",
    "\n",
    "y_pred = clf.predict(X_test_review_bow) #вероятность ошибки\n",
    "print('Test Accuracy: ', accuracy_score(y_test, y_pred)) "
   ]
  }
 ],
 "metadata": {
  "kernelspec": {
   "display_name": "Python 3",
   "language": "python",
   "name": "python3"
  },
  "language_info": {
   "codemirror_mode": {
    "name": "ipython",
    "version": 3
   },
   "file_extension": ".py",
   "mimetype": "text/x-python",
   "name": "python",
   "nbconvert_exporter": "python",
   "pygments_lexer": "ipython3",
   "version": "3.8.3"
  }
 },
 "nbformat": 4,
 "nbformat_minor": 4
}
